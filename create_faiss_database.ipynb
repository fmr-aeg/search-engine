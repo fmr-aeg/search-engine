{
 "cells": [
  {
   "cell_type": "code",
   "execution_count": 1,
   "id": "c56fe388-f502-4415-a094-9c3aa2943277",
   "metadata": {},
   "outputs": [
    {
     "name": "stderr",
     "output_type": "stream",
     "text": [
      "C:\\Users\\aboub\\PycharmProjects\\search-engine\\.venv\\Lib\\site-packages\\tqdm\\auto.py:21: TqdmWarning: IProgress not found. Please update jupyter and ipywidgets. See https://ipywidgets.readthedocs.io/en/stable/user_install.html\n",
      "  from .autonotebook import tqdm as notebook_tqdm\n"
     ]
    }
   ],
   "source": [
    "from sentence_transformers import SentenceTransformer\n",
    "import pandas as pd\n",
    "import faiss\n",
    "import pickle"
   ]
  },
  {
   "cell_type": "code",
   "execution_count": 2,
   "id": "2fac86bd-ca14-47e3-b249-d24b5a6470cd",
   "metadata": {},
   "outputs": [
    {
     "data": {
      "text/plain": [
       "'NVIDIA GeForce RTX 4080'"
      ]
     },
     "execution_count": 2,
     "metadata": {},
     "output_type": "execute_result"
    }
   ],
   "source": [
    "import torch\n",
    "torch.cuda.get_device_name(0)"
   ]
  },
  {
   "cell_type": "markdown",
   "id": "f86be7c7-bebd-41a7-9d59-b0417c47653d",
   "metadata": {},
   "source": [
    "### Import model from huggingFace"
   ]
  },
  {
   "cell_type": "code",
   "execution_count": 3,
   "id": "0996f7bb-4f10-4ab1-b576-9b84f03bc101",
   "metadata": {},
   "outputs": [
    {
     "data": {
      "text/plain": [
       "SentenceTransformer(\n",
       "  (0): Transformer({'max_seq_length': 128, 'do_lower_case': False, 'architecture': 'BertModel'})\n",
       "  (1): Pooling({'word_embedding_dimension': 384, 'pooling_mode_cls_token': False, 'pooling_mode_mean_tokens': True, 'pooling_mode_max_tokens': False, 'pooling_mode_mean_sqrt_len_tokens': False, 'pooling_mode_weightedmean_tokens': False, 'pooling_mode_lasttoken': False, 'include_prompt': True})\n",
       ")"
      ]
     },
     "execution_count": 3,
     "metadata": {},
     "output_type": "execute_result"
    }
   ],
   "source": [
    "model = SentenceTransformer(\"sentence-transformers/paraphrase-multilingual-MiniLM-L12-v2\")\n",
    "model.to(\"cuda\")"
   ]
  },
  {
   "cell_type": "markdown",
   "id": "53217c9c-4dc4-44f7-aaee-1773b40f3104",
   "metadata": {},
   "source": [
    "### load data and remove duplicates"
   ]
  },
  {
   "cell_type": "code",
   "execution_count": 4,
   "id": "48f26216-7c2e-42d4-95a5-19ea519a9a19",
   "metadata": {},
   "outputs": [],
   "source": [
    "df = pd.read_csv('data/gutenberg_metadata.csv')"
   ]
  },
  {
   "cell_type": "code",
   "execution_count": 5,
   "id": "350413df-bd35-4831-acbc-9db30b1e036e",
   "metadata": {},
   "outputs": [
    {
     "name": "stdout",
     "output_type": "stream",
     "text": [
      "15331\n",
      "8766\n"
     ]
    }
   ],
   "source": [
    "l_title = df.Title.tolist()\n",
    "print(len(l_title))\n",
    "l_title = list(set(l_title))\n",
    "print(len(l_title))"
   ]
  },
  {
   "cell_type": "markdown",
   "id": "2d7785bc-9874-4d7d-b346-ff1bf1a6dfcb",
   "metadata": {},
   "source": [
    "## encode_data"
   ]
  },
  {
   "cell_type": "code",
   "execution_count": 6,
   "id": "a03cdae7-bc0c-4fb6-8ee0-a022f2da45d6",
   "metadata": {},
   "outputs": [
    {
     "name": "stderr",
     "output_type": "stream",
     "text": [
      "C:\\Users\\aboub\\PycharmProjects\\search-engine\\.venv\\Lib\\site-packages\\torch\\nn\\modules\\module.py:1762: FutureWarning: `encoder_attention_mask` is deprecated and will be removed in version 4.55.0 for `BertSdpaSelfAttention.forward`.\n",
      "  return forward_call(*args, **kwargs)\n"
     ]
    }
   ],
   "source": [
    "title_embeddings = model.encode(l_title).astype('float32')\n",
    "index = faiss.IndexFlatL2(title_embeddings.shape[1])\n",
    "index.add(title_embeddings)"
   ]
  },
  {
   "cell_type": "code",
   "execution_count": 7,
   "id": "87ee0056-49a4-4261-bc9c-2d04fcb01a68",
   "metadata": {},
   "outputs": [],
   "source": [
    "index_to_title = {i: doc for i, doc in enumerate(l_title, 0)}"
   ]
  },
  {
   "cell_type": "markdown",
   "id": "fc341855-b528-4175-bb71-07e74de4c9d4",
   "metadata": {},
   "source": [
    "### Saving"
   ]
  },
  {
   "cell_type": "code",
   "execution_count": 8,
   "id": "b73f60ea-9516-47b8-84f2-5e2f3357cd64",
   "metadata": {},
   "outputs": [],
   "source": [
    "faiss.write_index(index, \"data/mock_data.index\")"
   ]
  },
  {
   "cell_type": "code",
   "execution_count": 9,
   "id": "ad4f8ee9-454e-419c-9437-902b439970dd",
   "metadata": {},
   "outputs": [],
   "source": [
    "pickle.dump(index_to_title, open('data/mock_index_to_title.pkl', 'wb'))"
   ]
  },
  {
   "cell_type": "code",
   "execution_count": null,
   "id": "3da63eb1-fa7c-4217-be3a-a5ff954a4fce",
   "metadata": {},
   "outputs": [],
   "source": []
  }
 ],
 "metadata": {
  "kernelspec": {
   "display_name": "Python 3 (ipykernel)",
   "language": "python",
   "name": "python3"
  },
  "language_info": {
   "codemirror_mode": {
    "name": "ipython",
    "version": 3
   },
   "file_extension": ".py",
   "mimetype": "text/x-python",
   "name": "python",
   "nbconvert_exporter": "python",
   "pygments_lexer": "ipython3",
   "version": "3.11.9"
  }
 },
 "nbformat": 4,
 "nbformat_minor": 5
}
